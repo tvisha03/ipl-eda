{
 "cells": [
  {
   "cell_type": "code",
   "execution_count": 4,
   "id": "8e31326e",
   "metadata": {},
   "outputs": [],
   "source": [
    "import numpy as np\n",
    "import matplotlib.pyplot as plt\n",
    "import pandas as pd\n",
    "import seaborn as sns\n"
   ]
  },
  {
   "cell_type": "code",
   "execution_count": 2,
   "id": "6fbd8e57",
   "metadata": {},
   "outputs": [
    {
     "name": "stdout",
     "output_type": "stream",
     "text": [
      "(260920, 23)\n",
      "   match_id           batting_team                 bowling_team  over  ball  \\\n",
      "0    335982  Kolkata Knight Riders  Royal Challengers Bangalore     0     1   \n",
      "1    335982  Kolkata Knight Riders  Royal Challengers Bangalore     0     2   \n",
      "2    335982  Kolkata Knight Riders  Royal Challengers Bangalore     0     3   \n",
      "3    335982  Kolkata Knight Riders  Royal Challengers Bangalore     0     4   \n",
      "4    335982  Kolkata Knight Riders  Royal Challengers Bangalore     0     5   \n",
      "\n",
      "   total_runs                 winner  \n",
      "0           1  Kolkata Knight Riders  \n",
      "1           0  Kolkata Knight Riders  \n",
      "2           1  Kolkata Knight Riders  \n",
      "3           0  Kolkata Knight Riders  \n",
      "4           0  Kolkata Knight Riders  \n"
     ]
    }
   ],
   "source": [
    "\n",
    "# Load the datasets\n",
    "matches = pd.read_csv(\"matches.csv\")\n",
    "deliveries = pd.read_csv(\"deliveries.csv\")\n",
    "\n",
    "# Merge datasets on match_id (deliveries) and id (matches)\n",
    "merged_df = deliveries.merge(\n",
    "    matches[['id', 'winner', 'target_runs', 'target_overs', 'toss_decision', 'city']],\n",
    "    left_on='match_id',\n",
    "    right_on='id',\n",
    "    how='left'\n",
    ")\n",
    "\n",
    "# Preview the merged dataset\n",
    "print(merged_df.shape)\n",
    "print(merged_df[['match_id', 'batting_team', 'bowling_team', 'over', 'ball', 'total_runs', 'winner']].head())\n"
   ]
  },
  {
   "cell_type": "code",
   "execution_count": 3,
   "id": "4ba10f1f",
   "metadata": {},
   "outputs": [
    {
     "name": "stdout",
     "output_type": "stream",
     "text": [
      "<class 'pandas.core.frame.DataFrame'>\n",
      "RangeIndex: 260920 entries, 0 to 260919\n",
      "Data columns (total 23 columns):\n",
      " #   Column            Non-Null Count   Dtype  \n",
      "---  ------            --------------   -----  \n",
      " 0   match_id          260920 non-null  int64  \n",
      " 1   inning            260920 non-null  int64  \n",
      " 2   batting_team      260920 non-null  object \n",
      " 3   bowling_team      260920 non-null  object \n",
      " 4   over              260920 non-null  int64  \n",
      " 5   ball              260920 non-null  int64  \n",
      " 6   batter            260920 non-null  object \n",
      " 7   bowler            260920 non-null  object \n",
      " 8   non_striker       260920 non-null  object \n",
      " 9   batsman_runs      260920 non-null  int64  \n",
      " 10  extra_runs        260920 non-null  int64  \n",
      " 11  total_runs        260920 non-null  int64  \n",
      " 12  extras_type       14125 non-null   object \n",
      " 13  is_wicket         260920 non-null  int64  \n",
      " 14  player_dismissed  12950 non-null   object \n",
      " 15  dismissal_kind    12950 non-null   object \n",
      " 16  fielder           9354 non-null    object \n",
      " 17  id                260920 non-null  int64  \n",
      " 18  winner            260430 non-null  object \n",
      " 19  target_runs       260611 non-null  float64\n",
      " 20  target_overs      260611 non-null  float64\n",
      " 21  toss_decision     260920 non-null  object \n",
      " 22  city              248523 non-null  object \n",
      "dtypes: float64(2), int64(9), object(12)\n",
      "memory usage: 45.8+ MB\n"
     ]
    }
   ],
   "source": [
    "merged_df.info()"
   ]
  },
  {
   "cell_type": "code",
   "execution_count": 5,
   "id": "8aebd0ec",
   "metadata": {},
   "outputs": [
    {
     "name": "stdout",
     "output_type": "stream",
     "text": [
      "   match_id           batting_team                 winner  \\\n",
      "0    335982  Kolkata Knight Riders  Kolkata Knight Riders   \n",
      "1    335982  Kolkata Knight Riders  Kolkata Knight Riders   \n",
      "2    335982  Kolkata Knight Riders  Kolkata Knight Riders   \n",
      "3    335982  Kolkata Knight Riders  Kolkata Knight Riders   \n",
      "4    335982  Kolkata Knight Riders  Kolkata Knight Riders   \n",
      "\n",
      "   will_batting_team_win  \n",
      "0                      1  \n",
      "1                      1  \n",
      "2                      1  \n",
      "3                      1  \n",
      "4                      1  \n",
      "will_batting_team_win\n",
      "0    133435\n",
      "1    127485\n",
      "Name: count, dtype: int64\n"
     ]
    }
   ],
   "source": [
    "# Define target column: did the batting team win this match?\n",
    "merged_df['will_batting_team_win'] = (merged_df['batting_team'] == merged_df['winner']).astype(int)\n",
    "\n",
    "# Check result\n",
    "print(merged_df[['match_id', 'batting_team', 'winner', 'will_batting_team_win']].head())\n",
    "print(merged_df['will_batting_team_win'].value_counts())\n"
   ]
  },
  {
   "cell_type": "code",
   "execution_count": 6,
   "id": "e557020f",
   "metadata": {},
   "outputs": [],
   "source": [
    "# Filter only second innings\n",
    "second_innings_df = merged_df[merged_df['inning'] == 2].copy()\n"
   ]
  },
  {
   "cell_type": "code",
   "execution_count": 7,
   "id": "fb9d6e8a",
   "metadata": {},
   "outputs": [
    {
     "data": {
      "text/plain": [
       "(125741, 24)"
      ]
     },
     "execution_count": 7,
     "metadata": {},
     "output_type": "execute_result"
    }
   ],
   "source": [
    "second_innings_df.shape"
   ]
  },
  {
   "cell_type": "code",
   "execution_count": 8,
   "id": "69a838a1",
   "metadata": {},
   "outputs": [],
   "source": [
    "# Cumulative runs and wickets\n",
    "second_innings_df['current_score'] = second_innings_df.groupby('match_id')['total_runs'].cumsum()\n",
    "second_innings_df['wickets_fallen'] = second_innings_df.groupby('match_id')['is_wicket'].cumsum()\n",
    "\n",
    "# Balls bowled so far\n",
    "second_innings_df['balls_bowled'] = ((second_innings_df['over'] - 1) * 6 + second_innings_df['ball'])\n",
    "\n",
    "# Balls remaining in chase\n",
    "second_innings_df['balls_remaining'] = (second_innings_df['target_overs'] * 6) - second_innings_df['balls_bowled']\n",
    "\n",
    "# Runs required\n",
    "second_innings_df['required_runs'] = second_innings_df['target_runs'] - second_innings_df['current_score']\n",
    "\n",
    "# Run rates\n",
    "second_innings_df['current_run_rate'] = second_innings_df['current_score'] / second_innings_df['balls_bowled'].replace(0, 1)\n",
    "second_innings_df['required_run_rate'] = second_innings_df['required_runs'] / second_innings_df['balls_remaining'].replace(0, 1)\n"
   ]
  },
  {
   "cell_type": "code",
   "execution_count": 9,
   "id": "ecb38af6",
   "metadata": {},
   "outputs": [],
   "source": [
    "second_innings_df = second_innings_df[\n",
    "    (second_innings_df['balls_remaining'] > 0) & \n",
    "    (second_innings_df['required_runs'] > 0)\n",
    "]\n"
   ]
  },
  {
   "cell_type": "code",
   "execution_count": 10,
   "id": "1025be6f",
   "metadata": {},
   "outputs": [
    {
     "name": "stdout",
     "output_type": "stream",
     "text": [
      "<class 'pandas.core.frame.DataFrame'>\n",
      "Index: 125097 entries, 124 to 260918\n",
      "Data columns (total 31 columns):\n",
      " #   Column                 Non-Null Count   Dtype  \n",
      "---  ------                 --------------   -----  \n",
      " 0   match_id               125097 non-null  int64  \n",
      " 1   inning                 125097 non-null  int64  \n",
      " 2   batting_team           125097 non-null  object \n",
      " 3   bowling_team           125097 non-null  object \n",
      " 4   over                   125097 non-null  int64  \n",
      " 5   ball                   125097 non-null  int64  \n",
      " 6   batter                 125097 non-null  object \n",
      " 7   bowler                 125097 non-null  object \n",
      " 8   non_striker            125097 non-null  object \n",
      " 9   batsman_runs           125097 non-null  int64  \n",
      " 10  extra_runs             125097 non-null  int64  \n",
      " 11  total_runs             125097 non-null  int64  \n",
      " 12  extras_type            6709 non-null    object \n",
      " 13  is_wicket              125097 non-null  int64  \n",
      " 14  player_dismissed       6226 non-null    object \n",
      " 15  dismissal_kind         6226 non-null    object \n",
      " 16  fielder                4444 non-null    object \n",
      " 17  id                     125097 non-null  int64  \n",
      " 18  winner                 125070 non-null  object \n",
      " 19  target_runs            125097 non-null  float64\n",
      " 20  target_overs           125097 non-null  float64\n",
      " 21  toss_decision          125097 non-null  object \n",
      " 22  city                   119109 non-null  object \n",
      " 23  will_batting_team_win  125097 non-null  int64  \n",
      " 24  current_score          125097 non-null  int64  \n",
      " 25  wickets_fallen         125097 non-null  int64  \n",
      " 26  balls_bowled           125097 non-null  int64  \n",
      " 27  balls_remaining        125097 non-null  float64\n",
      " 28  required_runs          125097 non-null  float64\n",
      " 29  current_run_rate       125097 non-null  float64\n",
      " 30  required_run_rate      125097 non-null  float64\n",
      "dtypes: float64(6), int64(13), object(12)\n",
      "memory usage: 30.5+ MB\n"
     ]
    }
   ],
   "source": [
    "second_innings_df.info()"
   ]
  },
  {
   "cell_type": "code",
   "execution_count": 11,
   "id": "531553ca",
   "metadata": {},
   "outputs": [],
   "source": [
    "from sklearn.preprocessing import LabelEncoder\n",
    "\n",
    "# Select relevant features + target\n",
    "features = [\n",
    "    'current_score', 'wickets_fallen', 'balls_bowled', 'balls_remaining',\n",
    "    'required_runs', 'current_run_rate', 'required_run_rate',\n",
    "    'batting_team', 'bowling_team', 'city', 'toss_decision'\n",
    "]\n",
    "\n",
    "df_model = second_innings_df[features + ['will_batting_team_win']].copy()\n",
    "\n",
    "# Encode categorical features\n",
    "categorical_cols = ['batting_team', 'bowling_team', 'city', 'toss_decision']\n",
    "label_encoders = {}\n",
    "\n",
    "for col in categorical_cols:\n",
    "    le = LabelEncoder()\n",
    "    df_model[col] = le.fit_transform(df_model[col].astype(str))\n",
    "    label_encoders[col] = le  # Save encoder if you want to use it later in prediction\n"
   ]
  },
  {
   "cell_type": "code",
   "execution_count": 12,
   "id": "b284a4f4",
   "metadata": {},
   "outputs": [],
   "source": [
    "from sklearn.model_selection import train_test_split\n",
    "\n",
    "X = df_model.drop('will_batting_team_win', axis=1)\n",
    "y = df_model['will_batting_team_win']\n",
    "\n",
    "X_train, X_test, y_train, y_test = train_test_split(\n",
    "    X, y, test_size=0.2, stratify=y, random_state=42\n",
    ")\n"
   ]
  },
  {
   "cell_type": "code",
   "execution_count": 13,
   "id": "90483229",
   "metadata": {},
   "outputs": [],
   "source": [
    "from sklearn.ensemble import RandomForestClassifier\n",
    "from sklearn.metrics import accuracy_score, classification_report, confusion_matrix\n",
    "\n",
    "# Initialize and train the model\n",
    "model = RandomForestClassifier(n_estimators=100, max_depth=10, random_state=42)\n",
    "model.fit(X_train, y_train)\n",
    "\n",
    "# Predict on test set\n",
    "y_pred = model.predict(X_test)\n"
   ]
  },
  {
   "cell_type": "code",
   "execution_count": 14,
   "id": "1426638b",
   "metadata": {},
   "outputs": [
    {
     "name": "stdout",
     "output_type": "stream",
     "text": [
      "Accuracy: 84.16 %\n",
      "Classification Report:\n",
      "               precision    recall  f1-score   support\n",
      "\n",
      "           0       0.85      0.82      0.83     12079\n",
      "           1       0.84      0.86      0.85     12941\n",
      "\n",
      "    accuracy                           0.84     25020\n",
      "   macro avg       0.84      0.84      0.84     25020\n",
      "weighted avg       0.84      0.84      0.84     25020\n",
      "\n",
      "Confusion Matrix:\n",
      " [[ 9899  2180]\n",
      " [ 1783 11158]]\n"
     ]
    }
   ],
   "source": [
    "# Accuracy\n",
    "accuracy = accuracy_score(y_test, y_pred)\n",
    "print(\"Accuracy:\", round(accuracy * 100, 2), \"%\")\n",
    "\n",
    "# Classification report\n",
    "print(\"Classification Report:\\n\", classification_report(y_test, y_pred))\n",
    "\n",
    "# Confusion matrix\n",
    "cm = confusion_matrix(y_test, y_pred)\n",
    "print(\"Confusion Matrix:\\n\", cm)\n"
   ]
  },
  {
   "cell_type": "code",
   "execution_count": null,
   "id": "bb228be7",
   "metadata": {},
   "outputs": [
    {
     "name": "stdout",
     "output_type": "stream",
     "text": [
      "will_batting_team_win\n",
      "1    0.517215\n",
      "0    0.482785\n",
      "Name: proportion, dtype: float64\n"
     ]
    }
   ],
   "source": [
    "print(y.value_counts(normalize=True))  \n"
   ]
  },
  {
   "cell_type": "code",
   "execution_count": 19,
   "id": "7d520a2f",
   "metadata": {},
   "outputs": [
    {
     "name": "stdout",
     "output_type": "stream",
     "text": [
      "Filtered rows: (115244, 12)\n"
     ]
    }
   ],
   "source": [
    "# Filter only up to 100 balls bowled (approx. 16.4 overs)\n",
    "df_model_filtered = df_model[df_model['balls_bowled'] <= 100].copy()\n",
    "\n",
    "# Check new shape\n",
    "print(\"Filtered rows:\", df_model_filtered.shape)\n"
   ]
  },
  {
   "cell_type": "code",
   "execution_count": 20,
   "id": "54d6e798",
   "metadata": {},
   "outputs": [],
   "source": [
    "from sklearn.model_selection import train_test_split\n",
    "\n",
    "X_filtered = df_model_filtered.drop('will_batting_team_win', axis=1)\n",
    "y_filtered = df_model_filtered['will_batting_team_win']\n",
    "\n",
    "X_train, X_test, y_train, y_test = train_test_split(\n",
    "    X_filtered, y_filtered, test_size=0.2, stratify=y_filtered, random_state=42\n",
    ")\n"
   ]
  },
  {
   "cell_type": "code",
   "execution_count": 21,
   "id": "7d81e6b9",
   "metadata": {},
   "outputs": [
    {
     "name": "stderr",
     "output_type": "stream",
     "text": [
      "c:\\Users\\tvisha.k\\Documents\\Tvisha\\Projects\\ipl-eda\\ipl_env\\lib\\site-packages\\xgboost\\training.py:183: UserWarning: [17:34:16] WARNING: C:\\actions-runner\\_work\\xgboost\\xgboost\\src\\learner.cc:738: \n",
      "Parameters: { \"use_label_encoder\" } are not used.\n",
      "\n",
      "  bst.update(dtrain, iteration=i, fobj=obj)\n"
     ]
    }
   ],
   "source": [
    "import xgboost as xgb\n",
    "\n",
    "xgb_model = xgb.XGBClassifier(\n",
    "    n_estimators=150,\n",
    "    max_depth=6,\n",
    "    learning_rate=0.1,\n",
    "    objective='binary:logistic',\n",
    "    use_label_encoder=False,\n",
    "    eval_metric='logloss',\n",
    "    random_state=42\n",
    ")\n",
    "\n",
    "xgb_model.fit(X_train, y_train)\n",
    "y_pred = xgb_model.predict(X_test)\n"
   ]
  },
  {
   "cell_type": "code",
   "execution_count": 22,
   "id": "6133bb11",
   "metadata": {},
   "outputs": [
    {
     "name": "stdout",
     "output_type": "stream",
     "text": [
      "XGBoost Accuracy (early overs only): 93.68 %\n",
      "Classification Report:\n",
      "               precision    recall  f1-score   support\n",
      "\n",
      "           0       0.94      0.92      0.93     10813\n",
      "           1       0.93      0.95      0.94     12236\n",
      "\n",
      "    accuracy                           0.94     23049\n",
      "   macro avg       0.94      0.94      0.94     23049\n",
      "weighted avg       0.94      0.94      0.94     23049\n",
      "\n",
      "Confusion Matrix:\n",
      " [[ 9990   823]\n",
      " [  634 11602]]\n"
     ]
    }
   ],
   "source": [
    "from sklearn.metrics import accuracy_score, classification_report, confusion_matrix\n",
    "\n",
    "accuracy = accuracy_score(y_test, y_pred)\n",
    "print(\"XGBoost Accuracy (early overs only):\", round(accuracy * 100, 2), \"%\")\n",
    "\n",
    "print(\"Classification Report:\\n\", classification_report(y_test, y_pred))\n",
    "print(\"Confusion Matrix:\\n\", confusion_matrix(y_test, y_pred))\n"
   ]
  },
  {
   "cell_type": "code",
   "execution_count": 24,
   "id": "f94d4763",
   "metadata": {},
   "outputs": [
    {
     "data": {
      "text/plain": [
       "<Axes: title={'center': 'Feature importance'}, xlabel='Importance score', ylabel='Features'>"
      ]
     },
     "execution_count": 24,
     "metadata": {},
     "output_type": "execute_result"
    },
    {
     "data": {
      "image/png": "[encoded data removed]",
      "text/plain": [
       "<Figure size 640x480 with 1 Axes>"
      ]
     },
     "metadata": {},
     "output_type": "display_data"
    }
   ],
   "source": [
    "xgb.plot_importance(xgb_model)\n"
   ]
  },
  {
   "cell_type": "markdown",
   "id": "23ce93ac",
   "metadata": {},
   "source": [
    "Hyperparameter Tuning\n"
   ]
  },
  {
   "cell_type": "code",
   "execution_count": 25,
   "id": "5da8e621",
   "metadata": {},
   "outputs": [
    {
     "name": "stderr",
     "output_type": "stream",
     "text": [
      "c:\\Users\\tvisha.k\\Documents\\Tvisha\\Projects\\ipl-eda\\ipl_env\\lib\\site-packages\\tqdm\\auto.py:21: TqdmWarning: IProgress not found. Please update jupyter and ipywidgets. See https://ipywidgets.readthedocs.io/en/stable/user_install.html\n",
      "  from .autonotebook import tqdm as notebook_tqdm\n"
     ]
    }
   ],
   "source": [
    "import optuna\n",
    "from sklearn.metrics import accuracy_score\n",
    "\n",
    "def objective(trial):\n",
    "    param = {\n",
    "        'n_estimators': trial.suggest_int('n_estimators', 100, 300, step=50),\n",
    "        'max_depth': trial.suggest_int('max_depth', 3, 10),\n",
    "        'learning_rate': trial.suggest_float('learning_rate', 0.01, 0.3, log=True),\n",
    "        'subsample': trial.suggest_float('subsample', 0.5, 1.0),\n",
    "        'colsample_bytree': trial.suggest_float('colsample_bytree', 0.5, 1.0),\n",
    "        'gamma': trial.suggest_float('gamma', 0, 5),\n",
    "        'objective': 'binary:logistic',\n",
    "        'eval_metric': 'logloss',\n",
    "        'use_label_encoder': False,\n",
    "        'random_state': 42\n",
    "    }\n",
    "\n",
    "    model = xgb.XGBClassifier(**param)\n",
    "    model.fit(X_train, y_train)\n",
    "    y_pred = model.predict(X_test)\n",
    "    return accuracy_score(y_test, y_pred)\n"
   ]
  },
  {
   "cell_type": "code",
   "execution_count": 26,
   "id": "817606e3",
   "metadata": {},
   "outputs": [
    {
     "name": "stderr",
     "output_type": "stream",
     "text": [
      "[I 2025-06-26 17:36:32,779] A new study created in memory with name: no-name-ee260daf-637c-4b63-993d-c837e9934694\n",
      "c:\\Users\\tvisha.k\\Documents\\Tvisha\\Projects\\ipl-eda\\ipl_env\\lib\\site-packages\\xgboost\\training.py:183: UserWarning: [17:36:32] WARNING: C:\\actions-runner\\_work\\xgboost\\xgboost\\src\\learner.cc:738: \n",
      "Parameters: { \"use_label_encoder\" } are not used.\n",
      "\n",
      "  bst.update(dtrain, iteration=i, fobj=obj)\n",
      "[I 2025-06-26 17:36:33,889] Trial 0 finished with value: 0.8463707753047854 and parameters: {'n_estimators': 200, 'max_depth': 3, 'learning_rate': 0.12422076569542836, 'subsample': 0.5930371986052017, 'colsample_bytree': 0.9955344125525807, 'gamma': 1.3363617926994198}. Best is trial 0 with value: 0.8463707753047854.\n",
      "c:\\Users\\tvisha.k\\Documents\\Tvisha\\Projects\\ipl-eda\\ipl_env\\lib\\site-packages\\xgboost\\training.py:183: UserWarning: [17:36:33] WARNING: C:\\actions-runner\\_work\\xgboost\\xgboost\\src\\learner.cc:738: \n",
      "Parameters: { \"use_label_encoder\" } are not used.\n",
      "\n",
      "  bst.update(dtrain, iteration=i, fobj=obj)\n",
      "[I 2025-06-26 17:36:34,872] Trial 1 finished with value: 0.8715345568137446 and parameters: {'n_estimators': 250, 'max_depth': 3, 'learning_rate': 0.177005689079757, 'subsample': 0.6407481716093109, 'colsample_bytree': 0.9715978765656239, 'gamma': 1.1517605574222667}. Best is trial 1 with value: 0.8715345568137446.\n",
      "c:\\Users\\tvisha.k\\Documents\\Tvisha\\Projects\\ipl-eda\\ipl_env\\lib\\site-packages\\xgboost\\training.py:183: UserWarning: [17:36:34] WARNING: C:\\actions-runner\\_work\\xgboost\\xgboost\\src\\learner.cc:738: \n",
      "Parameters: { \"use_label_encoder\" } are not used.\n",
      "\n",
      "  bst.update(dtrain, iteration=i, fobj=obj)\n",
      "[I 2025-06-26 17:36:36,232] Trial 2 finished with value: 0.8578246344743806 and parameters: {'n_estimators': 300, 'max_depth': 5, 'learning_rate': 0.039792663552506456, 'subsample': 0.9200529399776747, 'colsample_bytree': 0.5093750499990393, 'gamma': 4.161939164814731}. Best is trial 1 with value: 0.8715345568137446.\n",
      "c:\\Users\\tvisha.k\\Documents\\Tvisha\\Projects\\ipl-eda\\ipl_env\\lib\\site-packages\\xgboost\\training.py:183: UserWarning: [17:36:36] WARNING: C:\\actions-runner\\_work\\xgboost\\xgboost\\src\\learner.cc:738: \n",
      "Parameters: { \"use_label_encoder\" } are not used.\n",
      "\n",
      "  bst.update(dtrain, iteration=i, fobj=obj)\n",
      "[I 2025-06-26 17:36:37,533] Trial 3 finished with value: 0.9927979521888152 and parameters: {'n_estimators': 250, 'max_depth': 10, 'learning_rate': 0.1529746446057856, 'subsample': 0.7028752022110523, 'colsample_bytree': 0.8313898882942018, 'gamma': 1.1413266873950956}. Best is trial 3 with value: 0.9927979521888152.\n",
      "c:\\Users\\tvisha.k\\Documents\\Tvisha\\Projects\\ipl-eda\\ipl_env\\lib\\site-packages\\xgboost\\training.py:183: UserWarning: [17:36:37] WARNING: C:\\actions-runner\\_work\\xgboost\\xgboost\\src\\learner.cc:738: \n",
      "Parameters: { \"use_label_encoder\" } are not used.\n",
      "\n",
      "  bst.update(dtrain, iteration=i, fobj=obj)\n",
      "[I 2025-06-26 17:36:38,439] Trial 4 finished with value: 0.7990802204000174 and parameters: {'n_estimators': 200, 'max_depth': 4, 'learning_rate': 0.021028227470315037, 'subsample': 0.9127532134372469, 'colsample_bytree': 0.9580773523808257, 'gamma': 0.515239204229026}. Best is trial 3 with value: 0.9927979521888152.\n",
      "c:\\Users\\tvisha.k\\Documents\\Tvisha\\Projects\\ipl-eda\\ipl_env\\lib\\site-packages\\xgboost\\training.py:183: UserWarning: [17:36:38] WARNING: C:\\actions-runner\\_work\\xgboost\\xgboost\\src\\learner.cc:738: \n",
      "Parameters: { \"use_label_encoder\" } are not used.\n",
      "\n",
      "  bst.update(dtrain, iteration=i, fobj=obj)\n",
      "[I 2025-06-26 17:36:39,233] Trial 5 finished with value: 0.8111414811922426 and parameters: {'n_estimators': 150, 'max_depth': 5, 'learning_rate': 0.022956550685532606, 'subsample': 0.7737243770861015, 'colsample_bytree': 0.795331301241317, 'gamma': 1.1218309433433777}. Best is trial 3 with value: 0.9927979521888152.\n",
      "c:\\Users\\tvisha.k\\Documents\\Tvisha\\Projects\\ipl-eda\\ipl_env\\lib\\site-packages\\xgboost\\training.py:183: UserWarning: [17:36:39] WARNING: C:\\actions-runner\\_work\\xgboost\\xgboost\\src\\learner.cc:738: \n",
      "Parameters: { \"use_label_encoder\" } are not used.\n",
      "\n",
      "  bst.update(dtrain, iteration=i, fobj=obj)\n",
      "[I 2025-06-26 17:36:40,023] Trial 6 finished with value: 0.8796043212286867 and parameters: {'n_estimators': 150, 'max_depth': 5, 'learning_rate': 0.07643961404279254, 'subsample': 0.8654206624099319, 'colsample_bytree': 0.8275549872286878, 'gamma': 4.139253429976012}. Best is trial 3 with value: 0.9927979521888152.\n",
      "c:\\Users\\tvisha.k\\Documents\\Tvisha\\Projects\\ipl-eda\\ipl_env\\lib\\site-packages\\xgboost\\training.py:183: UserWarning: [17:36:40] WARNING: C:\\actions-runner\\_work\\xgboost\\xgboost\\src\\learner.cc:738: \n",
      "Parameters: { \"use_label_encoder\" } are not used.\n",
      "\n",
      "  bst.update(dtrain, iteration=i, fobj=obj)\n",
      "[I 2025-06-26 17:36:41,112] Trial 7 finished with value: 0.8750488090589613 and parameters: {'n_estimators': 300, 'max_depth': 3, 'learning_rate': 0.157827731003006, 'subsample': 0.8315800248005476, 'colsample_bytree': 0.8802917888649491, 'gamma': 0.2752831954440743}. Best is trial 3 with value: 0.9927979521888152.\n",
      "c:\\Users\\tvisha.k\\Documents\\Tvisha\\Projects\\ipl-eda\\ipl_env\\lib\\site-packages\\xgboost\\training.py:183: UserWarning: [17:36:41] WARNING: C:\\actions-runner\\_work\\xgboost\\xgboost\\src\\learner.cc:738: \n",
      "Parameters: { \"use_label_encoder\" } are not used.\n",
      "\n",
      "  bst.update(dtrain, iteration=i, fobj=obj)\n",
      "[I 2025-06-26 17:36:41,979] Trial 8 finished with value: 0.9432947199444661 and parameters: {'n_estimators': 100, 'max_depth': 9, 'learning_rate': 0.05457767744234196, 'subsample': 0.8403585909358731, 'colsample_bytree': 0.9572307316812607, 'gamma': 2.4351984640884243}. Best is trial 3 with value: 0.9927979521888152.\n",
      "c:\\Users\\tvisha.k\\Documents\\Tvisha\\Projects\\ipl-eda\\ipl_env\\lib\\site-packages\\xgboost\\training.py:183: UserWarning: [17:36:42] WARNING: C:\\actions-runner\\_work\\xgboost\\xgboost\\src\\learner.cc:738: \n",
      "Parameters: { \"use_label_encoder\" } are not used.\n",
      "\n",
      "  bst.update(dtrain, iteration=i, fobj=obj)\n",
      "[I 2025-06-26 17:36:44,173] Trial 9 finished with value: 0.9306260575296108 and parameters: {'n_estimators': 200, 'max_depth': 10, 'learning_rate': 0.011737387937321039, 'subsample': 0.7597017759584231, 'colsample_bytree': 0.7316889541074691, 'gamma': 2.4831943338441325}. Best is trial 3 with value: 0.9927979521888152.\n",
      "c:\\Users\\tvisha.k\\Documents\\Tvisha\\Projects\\ipl-eda\\ipl_env\\lib\\site-packages\\xgboost\\training.py:183: UserWarning: [17:36:44] WARNING: C:\\actions-runner\\_work\\xgboost\\xgboost\\src\\learner.cc:738: \n",
      "Parameters: { \"use_label_encoder\" } are not used.\n",
      "\n",
      "  bst.update(dtrain, iteration=i, fobj=obj)\n",
      "[I 2025-06-26 17:36:45,166] Trial 10 finished with value: 0.9575686580762723 and parameters: {'n_estimators': 250, 'max_depth': 8, 'learning_rate': 0.24207866328269723, 'subsample': 0.5053989125649729, 'colsample_bytree': 0.6804423378192144, 'gamma': 4.9640045427295645}. Best is trial 3 with value: 0.9927979521888152.\n",
      "c:\\Users\\tvisha.k\\Documents\\Tvisha\\Projects\\ipl-eda\\ipl_env\\lib\\site-packages\\xgboost\\training.py:183: UserWarning: [17:36:45] WARNING: C:\\actions-runner\\_work\\xgboost\\xgboost\\src\\learner.cc:738: \n",
      "Parameters: { \"use_label_encoder\" } are not used.\n",
      "\n",
      "  bst.update(dtrain, iteration=i, fobj=obj)\n",
      "[I 2025-06-26 17:36:46,139] Trial 11 finished with value: 0.9604321228686711 and parameters: {'n_estimators': 250, 'max_depth': 8, 'learning_rate': 0.2927416829798034, 'subsample': 0.5172253444715177, 'colsample_bytree': 0.647061924148486, 'gamma': 4.985527014528153}. Best is trial 3 with value: 0.9927979521888152.\n",
      "c:\\Users\\tvisha.k\\Documents\\Tvisha\\Projects\\ipl-eda\\ipl_env\\lib\\site-packages\\xgboost\\training.py:183: UserWarning: [17:36:46] WARNING: C:\\actions-runner\\_work\\xgboost\\xgboost\\src\\learner.cc:738: \n",
      "Parameters: { \"use_label_encoder\" } are not used.\n",
      "\n",
      "  bst.update(dtrain, iteration=i, fobj=obj)\n",
      "[I 2025-06-26 17:36:47,066] Trial 12 finished with value: 0.9603019653781075 and parameters: {'n_estimators': 250, 'max_depth': 7, 'learning_rate': 0.2993445985644724, 'subsample': 0.6452256654149677, 'colsample_bytree': 0.6117556686940215, 'gamma': 3.1857496583361673}. Best is trial 3 with value: 0.9927979521888152.\n",
      "c:\\Users\\tvisha.k\\Documents\\Tvisha\\Projects\\ipl-eda\\ipl_env\\lib\\site-packages\\xgboost\\training.py:183: UserWarning: [17:36:47] WARNING: C:\\actions-runner\\_work\\xgboost\\xgboost\\src\\learner.cc:738: \n",
      "Parameters: { \"use_label_encoder\" } are not used.\n",
      "\n",
      "  bst.update(dtrain, iteration=i, fobj=obj)\n",
      "[I 2025-06-26 17:36:48,385] Trial 13 finished with value: 0.9815610221701593 and parameters: {'n_estimators': 250, 'max_depth': 10, 'learning_rate': 0.09755898981618713, 'subsample': 0.9998937257508873, 'colsample_bytree': 0.6223258610073881, 'gamma': 1.9683518095938535}. Best is trial 3 with value: 0.9927979521888152.\n",
      "c:\\Users\\tvisha.k\\Documents\\Tvisha\\Projects\\ipl-eda\\ipl_env\\lib\\site-packages\\xgboost\\training.py:183: UserWarning: [17:36:48] WARNING: C:\\actions-runner\\_work\\xgboost\\xgboost\\src\\learner.cc:738: \n",
      "Parameters: { \"use_label_encoder\" } are not used.\n",
      "\n",
      "  bst.update(dtrain, iteration=i, fobj=obj)\n",
      "[I 2025-06-26 17:36:50,231] Trial 14 finished with value: 0.9826022820946679 and parameters: {'n_estimators': 300, 'max_depth': 10, 'learning_rate': 0.08647275202155155, 'subsample': 0.9898878825640218, 'colsample_bytree': 0.5349972842920162, 'gamma': 1.9257709030831198}. Best is trial 3 with value: 0.9927979521888152.\n",
      "c:\\Users\\tvisha.k\\Documents\\Tvisha\\Projects\\ipl-eda\\ipl_env\\lib\\site-packages\\xgboost\\training.py:183: UserWarning: [17:36:50] WARNING: C:\\actions-runner\\_work\\xgboost\\xgboost\\src\\learner.cc:738: \n",
      "Parameters: { \"use_label_encoder\" } are not used.\n",
      "\n",
      "  bst.update(dtrain, iteration=i, fobj=obj)\n",
      "[I 2025-06-26 17:36:51,825] Trial 15 finished with value: 0.967026769057226 and parameters: {'n_estimators': 300, 'max_depth': 9, 'learning_rate': 0.06648324517466796, 'subsample': 0.6899334096532173, 'colsample_bytree': 0.5307319178131715, 'gamma': 3.1881501338273974}. Best is trial 3 with value: 0.9927979521888152.\n",
      "c:\\Users\\tvisha.k\\Documents\\Tvisha\\Projects\\ipl-eda\\ipl_env\\lib\\site-packages\\xgboost\\training.py:183: UserWarning: [17:36:51] WARNING: C:\\actions-runner\\_work\\xgboost\\xgboost\\src\\learner.cc:738: \n",
      "Parameters: { \"use_label_encoder\" } are not used.\n",
      "\n",
      "  bst.update(dtrain, iteration=i, fobj=obj)\n",
      "[I 2025-06-26 17:36:54,173] Trial 16 finished with value: 0.9857694476983817 and parameters: {'n_estimators': 300, 'max_depth': 10, 'learning_rate': 0.041374948550724835, 'subsample': 0.7225153478033761, 'colsample_bytree': 0.8853861421715306, 'gamma': 1.904134830832632}. Best is trial 3 with value: 0.9927979521888152.\n",
      "c:\\Users\\tvisha.k\\Documents\\Tvisha\\Projects\\ipl-eda\\ipl_env\\lib\\site-packages\\xgboost\\training.py:183: UserWarning: [17:36:54] WARNING: C:\\actions-runner\\_work\\xgboost\\xgboost\\src\\learner.cc:738: \n",
      "Parameters: { \"use_label_encoder\" } are not used.\n",
      "\n",
      "  bst.update(dtrain, iteration=i, fobj=obj)\n",
      "[I 2025-06-26 17:36:55,925] Trial 17 finished with value: 0.9521454293027897 and parameters: {'n_estimators': 300, 'max_depth': 7, 'learning_rate': 0.041333268920736355, 'subsample': 0.7187900989076637, 'colsample_bytree': 0.881452323021795, 'gamma': 1.7110132929149249}. Best is trial 3 with value: 0.9927979521888152.\n",
      "c:\\Users\\tvisha.k\\Documents\\Tvisha\\Projects\\ipl-eda\\ipl_env\\lib\\site-packages\\xgboost\\training.py:183: UserWarning: [17:36:56] WARNING: C:\\actions-runner\\_work\\xgboost\\xgboost\\src\\learner.cc:738: \n",
      "Parameters: { \"use_label_encoder\" } are not used.\n",
      "\n",
      "  bst.update(dtrain, iteration=i, fobj=obj)\n",
      "[I 2025-06-26 17:36:58,180] Trial 18 finished with value: 0.9572649572649573 and parameters: {'n_estimators': 250, 'max_depth': 9, 'learning_rate': 0.027762994676472537, 'subsample': 0.5878699918850572, 'colsample_bytree': 0.8856725023909191, 'gamma': 0.6486497135070448}. Best is trial 3 with value: 0.9927979521888152.\n",
      "c:\\Users\\tvisha.k\\Documents\\Tvisha\\Projects\\ipl-eda\\ipl_env\\lib\\site-packages\\xgboost\\training.py:183: UserWarning: [17:36:58] WARNING: C:\\actions-runner\\_work\\xgboost\\xgboost\\src\\learner.cc:738: \n",
      "Parameters: { \"use_label_encoder\" } are not used.\n",
      "\n",
      "  bst.update(dtrain, iteration=i, fobj=obj)\n",
      "[I 2025-06-26 17:36:59,385] Trial 19 finished with value: 0.8663282571912013 and parameters: {'n_estimators': 150, 'max_depth': 8, 'learning_rate': 0.01355705194652339, 'subsample': 0.7760059149454015, 'colsample_bytree': 0.7874702900808636, 'gamma': 2.9986054443271786}. Best is trial 3 with value: 0.9927979521888152.\n",
      "c:\\Users\\tvisha.k\\Documents\\Tvisha\\Projects\\ipl-eda\\ipl_env\\lib\\site-packages\\xgboost\\training.py:183: UserWarning: [17:36:59] WARNING: C:\\actions-runner\\_work\\xgboost\\xgboost\\src\\learner.cc:738: \n",
      "Parameters: { \"use_label_encoder\" } are not used.\n",
      "\n",
      "  bst.update(dtrain, iteration=i, fobj=obj)\n",
      "[I 2025-06-26 17:37:00,754] Trial 20 finished with value: 0.8926200702850449 and parameters: {'n_estimators': 200, 'max_depth': 6, 'learning_rate': 0.04671853100472292, 'subsample': 0.6993243603387037, 'colsample_bytree': 0.7265835428356398, 'gamma': 0.7962338073965802}. Best is trial 3 with value: 0.9927979521888152.\n",
      "c:\\Users\\tvisha.k\\Documents\\Tvisha\\Projects\\ipl-eda\\ipl_env\\lib\\site-packages\\xgboost\\training.py:183: UserWarning: [17:37:00] WARNING: C:\\actions-runner\\_work\\xgboost\\xgboost\\src\\learner.cc:738: \n",
      "Parameters: { \"use_label_encoder\" } are not used.\n",
      "\n",
      "  bst.update(dtrain, iteration=i, fobj=obj)\n",
      "[I 2025-06-26 17:37:02,487] Trial 21 finished with value: 0.9885895266605926 and parameters: {'n_estimators': 300, 'max_depth': 10, 'learning_rate': 0.09644364379495016, 'subsample': 0.6521750874398718, 'colsample_bytree': 0.8467219050647233, 'gamma': 1.9226866008501555}. Best is trial 3 with value: 0.9927979521888152.\n",
      "c:\\Users\\tvisha.k\\Documents\\Tvisha\\Projects\\ipl-eda\\ipl_env\\lib\\site-packages\\xgboost\\training.py:183: UserWarning: [17:37:02] WARNING: C:\\actions-runner\\_work\\xgboost\\xgboost\\src\\learner.cc:738: \n",
      "Parameters: { \"use_label_encoder\" } are not used.\n",
      "\n",
      "  bst.update(dtrain, iteration=i, fobj=obj)\n",
      "[I 2025-06-26 17:37:04,602] Trial 22 finished with value: 0.9901514165473556 and parameters: {'n_estimators': 300, 'max_depth': 10, 'learning_rate': 0.11845859776671942, 'subsample': 0.6511027221182809, 'colsample_bytree': 0.844198057420808, 'gamma': 1.5740942792250026}. Best is trial 3 with value: 0.9927979521888152.\n",
      "c:\\Users\\tvisha.k\\Documents\\Tvisha\\Projects\\ipl-eda\\ipl_env\\lib\\site-packages\\xgboost\\training.py:183: UserWarning: [17:37:04] WARNING: C:\\actions-runner\\_work\\xgboost\\xgboost\\src\\learner.cc:738: \n",
      "Parameters: { \"use_label_encoder\" } are not used.\n",
      "\n",
      "  bst.update(dtrain, iteration=i, fobj=obj)\n",
      "[I 2025-06-26 17:37:07,246] Trial 23 finished with value: 0.9967026769057226 and parameters: {'n_estimators': 300, 'max_depth': 9, 'learning_rate': 0.12125819074702988, 'subsample': 0.644210675084338, 'colsample_bytree': 0.8385843353940061, 'gamma': 0.06298561027417038}. Best is trial 23 with value: 0.9967026769057226.\n",
      "c:\\Users\\tvisha.k\\Documents\\Tvisha\\Projects\\ipl-eda\\ipl_env\\lib\\site-packages\\xgboost\\training.py:183: UserWarning: [17:37:07] WARNING: C:\\actions-runner\\_work\\xgboost\\xgboost\\src\\learner.cc:738: \n",
      "Parameters: { \"use_label_encoder\" } are not used.\n",
      "\n",
      "  bst.update(dtrain, iteration=i, fobj=obj)\n",
      "[I 2025-06-26 17:37:09,385] Trial 24 finished with value: 0.9969629918868498 and parameters: {'n_estimators': 250, 'max_depth': 9, 'learning_rate': 0.1675598313108744, 'subsample': 0.5831949967179169, 'colsample_bytree': 0.8007401351258919, 'gamma': 0.22837381744446095}. Best is trial 24 with value: 0.9969629918868498.\n",
      "c:\\Users\\tvisha.k\\Documents\\Tvisha\\Projects\\ipl-eda\\ipl_env\\lib\\site-packages\\xgboost\\training.py:183: UserWarning: [17:37:09] WARNING: C:\\actions-runner\\_work\\xgboost\\xgboost\\src\\learner.cc:738: \n",
      "Parameters: { \"use_label_encoder\" } are not used.\n",
      "\n",
      "  bst.update(dtrain, iteration=i, fobj=obj)\n",
      "[I 2025-06-26 17:37:11,493] Trial 25 finished with value: 0.9969196060566619 and parameters: {'n_estimators': 250, 'max_depth': 9, 'learning_rate': 0.1844274348182984, 'subsample': 0.5648076312971657, 'colsample_bytree': 0.7664920517563839, 'gamma': 0.004036484981444488}. Best is trial 24 with value: 0.9969629918868498.\n",
      "c:\\Users\\tvisha.k\\Documents\\Tvisha\\Projects\\ipl-eda\\ipl_env\\lib\\site-packages\\xgboost\\training.py:183: UserWarning: [17:37:11] WARNING: C:\\actions-runner\\_work\\xgboost\\xgboost\\src\\learner.cc:738: \n",
      "Parameters: { \"use_label_encoder\" } are not used.\n",
      "\n",
      "  bst.update(dtrain, iteration=i, fobj=obj)\n",
      "[I 2025-06-26 17:37:13,678] Trial 26 finished with value: 0.996876220226474 and parameters: {'n_estimators': 250, 'max_depth': 9, 'learning_rate': 0.19522008291068654, 'subsample': 0.5625629312505758, 'colsample_bytree': 0.7753022026396179, 'gamma': 0.15373929344225298}. Best is trial 24 with value: 0.9969629918868498.\n",
      "c:\\Users\\tvisha.k\\Documents\\Tvisha\\Projects\\ipl-eda\\ipl_env\\lib\\site-packages\\xgboost\\training.py:183: UserWarning: [17:37:13] WARNING: C:\\actions-runner\\_work\\xgboost\\xgboost\\src\\learner.cc:738: \n",
      "Parameters: { \"use_label_encoder\" } are not used.\n",
      "\n",
      "  bst.update(dtrain, iteration=i, fobj=obj)\n",
      "[I 2025-06-26 17:37:16,339] Trial 27 finished with value: 0.9954878736604625 and parameters: {'n_estimators': 250, 'max_depth': 8, 'learning_rate': 0.22959380221279313, 'subsample': 0.5599484262391541, 'colsample_bytree': 0.6841934327437974, 'gamma': 0.047559049292033834}. Best is trial 24 with value: 0.9969629918868498.\n",
      "c:\\Users\\tvisha.k\\Documents\\Tvisha\\Projects\\ipl-eda\\ipl_env\\lib\\site-packages\\xgboost\\training.py:183: UserWarning: [17:37:16] WARNING: C:\\actions-runner\\_work\\xgboost\\xgboost\\src\\learner.cc:738: \n",
      "Parameters: { \"use_label_encoder\" } are not used.\n",
      "\n",
      "  bst.update(dtrain, iteration=i, fobj=obj)\n",
      "[I 2025-06-26 17:37:18,056] Trial 28 finished with value: 0.9908455898303614 and parameters: {'n_estimators': 200, 'max_depth': 7, 'learning_rate': 0.2105517005608343, 'subsample': 0.5580989945486876, 'colsample_bytree': 0.7703621075697307, 'gamma': 0.395527607180568}. Best is trial 24 with value: 0.9969629918868498.\n",
      "c:\\Users\\tvisha.k\\Documents\\Tvisha\\Projects\\ipl-eda\\ipl_env\\lib\\site-packages\\xgboost\\training.py:183: UserWarning: [17:37:18] WARNING: C:\\actions-runner\\_work\\xgboost\\xgboost\\src\\learner.cc:738: \n",
      "Parameters: { \"use_label_encoder\" } are not used.\n",
      "\n",
      "  bst.update(dtrain, iteration=i, fobj=obj)\n",
      "[I 2025-06-26 17:37:19,399] Trial 29 finished with value: 0.9938825979435116 and parameters: {'n_estimators': 200, 'max_depth': 9, 'learning_rate': 0.17817650009427533, 'subsample': 0.6091162760377961, 'colsample_bytree': 0.7505749282874867, 'gamma': 0.8280096416740278}. Best is trial 24 with value: 0.9969629918868498.\n"
     ]
    },
    {
     "name": "stdout",
     "output_type": "stream",
     "text": [
      "Best Parameters: {'n_estimators': 250, 'max_depth': 9, 'learning_rate': 0.1675598313108744, 'subsample': 0.5831949967179169, 'colsample_bytree': 0.8007401351258919, 'gamma': 0.22837381744446095}\n",
      "Best Accuracy: 99.7 %\n"
     ]
    }
   ],
   "source": [
    "study = optuna.create_study(direction='maximize')\n",
    "study.optimize(objective, n_trials=30)\n",
    "\n",
    "print(\"Best Parameters:\", study.best_params)\n",
    "print(\"Best Accuracy:\", round(study.best_value * 100, 2), \"%\")\n"
   ]
  },
  {
   "cell_type": "code",
   "execution_count": 28,
   "id": "11a635a9",
   "metadata": {},
   "outputs": [
    {
     "name": "stdout",
     "output_type": "stream",
     "text": [
      "Best Model Accuracy: 99.68 %\n"
     ]
    },
    {
     "data": {
      "text/plain": [
       "<Axes: title={'center': 'Feature importance'}, xlabel='Importance score', ylabel='Features'>"
      ]
     },
     "execution_count": 28,
     "metadata": {},
     "output_type": "execute_result"
    },
    {
     "data": {
      "image/png": "[encoded data removed]",
      "text/plain": [
       "<Figure size 640x480 with 1 Axes>"
      ]
     },
     "metadata": {},
     "output_type": "display_data"
    }
   ],
   "source": [
    "best_model = xgb.XGBClassifier(**study.best_params)\n",
    "best_model.fit(X_train, y_train)\n",
    "y_pred_best = best_model.predict(X_test)\n",
    "accuracy_best = accuracy_score(y_test, y_pred_best)\n",
    "print(\"Best Model Accuracy:\", round(accuracy_best * 100, 2), \"%\")\n",
    "# Feature importance for the best model\n",
    "xgb.plot_importance(best_model)\n",
    "\n"
   ]
  },
  {
   "cell_type": "code",
   "execution_count": null,
   "id": "9b5c4b68",
   "metadata": {},
   "outputs": [],
   "source": []
  }
 ],
 "metadata": {
  "kernelspec": {
   "display_name": "ipl_env",
   "language": "python",
   "name": "python3"
  },
  "language_info": {
   "codemirror_mode": {
    "name": "ipython",
    "version": 3
   },
   "file_extension": ".py",
   "mimetype": "text/x-python",
   "name": "python",
   "nbconvert_exporter": "python",
   "pygments_lexer": "ipython3",
   "version": "3.10.0"
  }
 },
 "nbformat": 4,
 "nbformat_minor": 5
}
